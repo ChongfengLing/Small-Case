{
 "cells": [
  {
   "cell_type": "code",
   "execution_count": 69,
   "metadata": {},
   "outputs": [],
   "source": [
    "import pandas as pd"
   ]
  },
  {
   "cell_type": "code",
   "execution_count": 70,
   "metadata": {},
   "outputs": [],
   "source": [
    "whole = pd.read_excel('3000.xlsx')\n",
    "part = pd.read_excel('GRE.xlsx')"
   ]
  },
  {
   "cell_type": "code",
   "execution_count": 71,
   "metadata": {},
   "outputs": [],
   "source": [
    "def find(word, words):\n",
    "    # word:匹配的单词\n",
    "    # words：配单词所匹配的单词串\n",
    "    word = str(word)\n",
    "    words = list(words)\n",
    "    if word is None:\n",
    "        return 0\n",
    "    \n",
    "    for i in range(len(words)):\n",
    "        if words[i] == word:\n",
    "            return int(i)\n",
    "    return 0"
   ]
  },
  {
   "cell_type": "code",
   "execution_count": 72,
   "metadata": {},
   "outputs": [
    {
     "name": "stderr",
     "output_type": "stream",
     "text": [
      "<ipython-input-72-5c7538c5538e>:4: SettingWithCopyWarning: \n",
      "A value is trying to be set on a copy of a slice from a DataFrame\n",
      "\n",
      "See the caveats in the documentation: https://pandas.pydata.org/pandas-docs/stable/user_guide/indexing.html#returning-a-view-versus-a-copy\n",
      "  part['Paraphrase (w/ POS)'][pos_part] = whole['Paraphrase (w/ POS)'][pos_whole]\n",
      "<ipython-input-72-5c7538c5538e>:5: SettingWithCopyWarning: \n",
      "A value is trying to be set on a copy of a slice from a DataFrame\n",
      "\n",
      "See the caveats in the documentation: https://pandas.pydata.org/pandas-docs/stable/user_guide/indexing.html#returning-a-view-versus-a-copy\n",
      "  part['Paraphrase (English)'][pos_part] = whole['Paraphrase (English)'][pos_whole]\n"
     ]
    }
   ],
   "source": [
    "for pos_part in range(len(part['word'])):\n",
    "    pos_whole = find(part['word'][pos_part],whole['Word'])\n",
    "    if pos_whole:\n",
    "        part['Paraphrase (w/ POS)'][pos_part] = whole['Paraphrase (w/ POS)'][pos_whole]\n",
    "        part['Paraphrase (English)'][pos_part] = whole['Paraphrase (English)'][pos_whole]"
   ]
  },
  {
   "cell_type": "code",
   "execution_count": 73,
   "metadata": {},
   "outputs": [],
   "source": [
    "part.to_excel('output.xlsx')"
   ]
  }
 ],
 "metadata": {
  "kernelspec": {
   "display_name": "Python 3",
   "language": "python",
   "name": "python3"
  },
  "language_info": {
   "codemirror_mode": {
    "name": "ipython",
    "version": 3
   },
   "file_extension": ".py",
   "mimetype": "text/x-python",
   "name": "python",
   "nbconvert_exporter": "python",
   "pygments_lexer": "ipython3",
   "version": "3.8.2"
  },
  "latex_envs": {
   "LaTeX_envs_menu_present": true,
   "autoclose": false,
   "autocomplete": true,
   "bibliofile": "biblio.bib",
   "cite_by": "apalike",
   "current_citInitial": 1,
   "eqLabelWithNumbers": true,
   "eqNumInitial": 1,
   "hotkeys": {
    "equation": "Ctrl-E",
    "itemize": "Ctrl-I"
   },
   "labels_anchors": false,
   "latex_user_defs": false,
   "report_style_numbering": false,
   "user_envs_cfg": false
  }
 },
 "nbformat": 4,
 "nbformat_minor": 1
}
